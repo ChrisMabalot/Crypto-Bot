{
 "cells": [
  {
   "cell_type": "code",
   "execution_count": 16,
   "metadata": {},
   "outputs": [
    {
     "name": "stdout",
     "output_type": "stream",
     "text": [
      "\n",
      "\n",
      "\n",
      "=======================\n",
      "ALGORITHMIC TRADING BOT    \n",
      "TEST ENVIRONMENT\n",
      "=======================\n",
      "\n",
      "\n",
      "\n",
      "Starting Balance: $10000\n",
      "\n",
      "Algorithm Rules:\n",
      "Trade Size = 5% of balance.\n",
      "TP/SL = 1 ATR\n",
      "Daily Profit Target = 2% Profit\n"
     ]
    }
   ],
   "source": [
    "print('\\n\\n\\n=======================\\nALGORITHMIC TRADING BOT\\\n",
    "    \\nTEST ENVIRONMENT\\n=======================\\n\\n\\n')\n",
    "\n",
    "balance = 10000\n",
    "print(f'Starting Balance: ${balance}')\n",
    "\n",
    "print('\\nAlgorithm Rules:\\nTrade Size = 5% of balance.\\nTP/SL = 1 ATR\\nDaily Profit Target = 2% Profit')"
   ]
  },
  {
   "cell_type": "code",
   "execution_count": null,
   "metadata": {},
   "outputs": [],
   "source": []
  }
 ],
 "metadata": {
  "kernelspec": {
   "display_name": "Python 3.10.5 64-bit",
   "language": "python",
   "name": "python3"
  },
  "language_info": {
   "codemirror_mode": {
    "name": "ipython",
    "version": 3
   },
   "file_extension": ".py",
   "mimetype": "text/x-python",
   "name": "python",
   "nbconvert_exporter": "python",
   "pygments_lexer": "ipython3",
   "version": "3.10.5"
  },
  "orig_nbformat": 4,
  "vscode": {
   "interpreter": {
    "hash": "aee8b7b246df8f9039afb4144a1f6fd8d2ca17a180786b69acc140d282b71a49"
   }
  }
 },
 "nbformat": 4,
 "nbformat_minor": 2
}
