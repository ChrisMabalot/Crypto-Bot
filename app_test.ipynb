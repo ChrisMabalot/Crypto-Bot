{
 "cells": [
  {
   "cell_type": "code",
   "execution_count": 52,
   "metadata": {},
   "outputs": [],
   "source": [
    "import pandas as pd\n",
    "import json\n",
    "import requests"
   ]
  },
  {
   "cell_type": "code",
   "execution_count": 53,
   "metadata": {},
   "outputs": [
    {
     "name": "stdout",
     "output_type": "stream",
     "text": [
      "\n",
      "\n",
      "\n",
      "=======================\n",
      "ALGORITHMIC TRADING BOT    \n",
      "TEST ENVIRONMENT\n",
      "=======================\n",
      "\n",
      "\n",
      "\n",
      "Starting Balance: $10000\n",
      "\n",
      "Algorithm Rules:\n",
      "Trade Size = 5% of balance.\n",
      "TP/SL = 1 ATR\n",
      "Daily Profit Target = 2% Profit\n"
     ]
    }
   ],
   "source": [
    "print('\\n\\n\\n=======================\\nALGORITHMIC TRADING BOT\\\n",
    "    \\nTEST ENVIRONMENT\\n=======================\\n\\n\\n')\n",
    "\n",
    "balance = 10000\n",
    "print(f'Starting Balance: ${balance}')\n",
    "\n",
    "print('\\nAlgorithm Rules:\\nTrade Size = 5% of balance.\\nTP/SL = 1 ATR\\nDaily Profit Target = 2% Profit')"
   ]
  },
  {
   "cell_type": "code",
   "execution_count": 54,
   "metadata": {},
   "outputs": [],
   "source": [
    "# import datetime\n",
    "starting_time = 1669852800000\n",
    "limit = 1000\n",
    "timeframe = 60 #in minutes\n",
    "\n",
    "def convert_minutes_to_milliseconds(minutes):\n",
    "    milliseconds = 60000 * minutes\n",
    "    return milliseconds\n",
    "\n",
    "\n",
    "url1 = f'https://api.binance.com/api/v3/klines?symbol=ETHUSDT&interval=1h&limit={limit}&endTime={starting_time}'\n",
    "url2 = f'https://api.binance.com/api/v3/klines?symbol=ETHUSDT&interval=1h&limit={limit}&endTime={starting_time - limit*(convert_minutes_to_milliseconds(timeframe))}'\n",
    "\n",
    "urls = [url1, url2]"
   ]
  },
  {
   "cell_type": "code",
   "execution_count": 55,
   "metadata": {},
   "outputs": [
    {
     "name": "stdout",
     "output_type": "stream",
     "text": [
      "https://api.binance.com/api/v3/klines?symbol=ETHUSDT&interval=1h&limit=1000&endTime=1669852800000\n"
     ]
    },
    {
     "name": "stderr",
     "output_type": "stream",
     "text": [
      "/var/folders/2l/h2r8kh1x2jx7lbwdk0x41gp80000gn/T/ipykernel_5177/3063555294.py:8: FutureWarning: The frame.append method is deprecated and will be removed from pandas in a future version. Use pandas.concat instead.\n",
      "  df = df.append(data)\n"
     ]
    },
    {
     "name": "stdout",
     "output_type": "stream",
     "text": [
      "https://api.binance.com/api/v3/klines?symbol=ETHUSDT&interval=1h&limit=1000&endTime=1666252800000\n"
     ]
    }
   ],
   "source": [
    "def get_bars(symbol):\n",
    "    df = pd.DataFrame()\n",
    "    for i in urls:\n",
    "        data = json.loads(requests.get(i).text)\n",
    "        print(i)\n",
    "        for row in data:\n",
    "            del row[5:]\n",
    "        df = df.append(data)\n",
    "    df.columns = ['date',\n",
    "                'open', 'high', 'low', 'close']\n",
    "    return df\n",
    "\n",
    "eth_df_raw = get_bars('ETHUSDT')\n",
    "eth_df_raw = eth_df_raw.sort_values(by='date')"
   ]
  },
  {
   "cell_type": "code",
   "execution_count": 56,
   "metadata": {},
   "outputs": [
    {
     "name": "stdout",
     "output_type": "stream",
     "text": [
      "skipping\n"
     ]
    }
   ],
   "source": [
    "%%script echo skipping\n",
    "\n",
    "eth_df_raw['open'] = pd.to_numeric(eth_df_raw['open'])\n",
    "eth_df_raw['high'] = pd.to_numeric(eth_df_raw['high'])\n",
    "eth_df_raw['low'] = pd.to_numeric(eth_df_raw['low'])\n",
    "eth_df_raw['close'] = pd.to_numeric(eth_df_raw['close'])\n",
    "eth_df_raw['date'] = pd.to_datetime(eth_df_raw['date'], unit = 'ms')"
   ]
  },
  {
   "cell_type": "code",
   "execution_count": 57,
   "metadata": {},
   "outputs": [
    {
     "data": {
      "text/html": [
       "<div>\n",
       "<style scoped>\n",
       "    .dataframe tbody tr th:only-of-type {\n",
       "        vertical-align: middle;\n",
       "    }\n",
       "\n",
       "    .dataframe tbody tr th {\n",
       "        vertical-align: top;\n",
       "    }\n",
       "\n",
       "    .dataframe thead th {\n",
       "        text-align: right;\n",
       "    }\n",
       "</style>\n",
       "<table border=\"1\" class=\"dataframe\">\n",
       "  <thead>\n",
       "    <tr style=\"text-align: right;\">\n",
       "      <th></th>\n",
       "      <th>date</th>\n",
       "      <th>open</th>\n",
       "      <th>high</th>\n",
       "      <th>low</th>\n",
       "      <th>close</th>\n",
       "    </tr>\n",
       "  </thead>\n",
       "  <tbody>\n",
       "    <tr>\n",
       "      <th>0</th>\n",
       "      <td>1662656400000</td>\n",
       "      <td>1630.23000000</td>\n",
       "      <td>1639.41000000</td>\n",
       "      <td>1620.20000000</td>\n",
       "      <td>1630.59000000</td>\n",
       "    </tr>\n",
       "    <tr>\n",
       "      <th>1</th>\n",
       "      <td>1662660000000</td>\n",
       "      <td>1630.59000000</td>\n",
       "      <td>1636.47000000</td>\n",
       "      <td>1625.30000000</td>\n",
       "      <td>1630.55000000</td>\n",
       "    </tr>\n",
       "    <tr>\n",
       "      <th>2</th>\n",
       "      <td>1662663600000</td>\n",
       "      <td>1630.55000000</td>\n",
       "      <td>1650.00000000</td>\n",
       "      <td>1624.32000000</td>\n",
       "      <td>1649.60000000</td>\n",
       "    </tr>\n",
       "    <tr>\n",
       "      <th>3</th>\n",
       "      <td>1662667200000</td>\n",
       "      <td>1649.60000000</td>\n",
       "      <td>1663.56000000</td>\n",
       "      <td>1639.83000000</td>\n",
       "      <td>1644.92000000</td>\n",
       "    </tr>\n",
       "    <tr>\n",
       "      <th>4</th>\n",
       "      <td>1662670800000</td>\n",
       "      <td>1644.91000000</td>\n",
       "      <td>1645.00000000</td>\n",
       "      <td>1630.00000000</td>\n",
       "      <td>1639.24000000</td>\n",
       "    </tr>\n",
       "    <tr>\n",
       "      <th>...</th>\n",
       "      <td>...</td>\n",
       "      <td>...</td>\n",
       "      <td>...</td>\n",
       "      <td>...</td>\n",
       "      <td>...</td>\n",
       "    </tr>\n",
       "    <tr>\n",
       "      <th>995</th>\n",
       "      <td>1669838400000</td>\n",
       "      <td>1287.20000000</td>\n",
       "      <td>1295.76000000</td>\n",
       "      <td>1285.00000000</td>\n",
       "      <td>1295.29000000</td>\n",
       "    </tr>\n",
       "    <tr>\n",
       "      <th>996</th>\n",
       "      <td>1669842000000</td>\n",
       "      <td>1295.29000000</td>\n",
       "      <td>1299.00000000</td>\n",
       "      <td>1287.73000000</td>\n",
       "      <td>1297.07000000</td>\n",
       "    </tr>\n",
       "    <tr>\n",
       "      <th>997</th>\n",
       "      <td>1669845600000</td>\n",
       "      <td>1297.07000000</td>\n",
       "      <td>1309.77000000</td>\n",
       "      <td>1292.24000000</td>\n",
       "      <td>1298.91000000</td>\n",
       "    </tr>\n",
       "    <tr>\n",
       "      <th>998</th>\n",
       "      <td>1669849200000</td>\n",
       "      <td>1298.90000000</td>\n",
       "      <td>1306.51000000</td>\n",
       "      <td>1290.84000000</td>\n",
       "      <td>1294.46000000</td>\n",
       "    </tr>\n",
       "    <tr>\n",
       "      <th>999</th>\n",
       "      <td>1669852800000</td>\n",
       "      <td>1294.46000000</td>\n",
       "      <td>1295.88000000</td>\n",
       "      <td>1286.21000000</td>\n",
       "      <td>1290.21000000</td>\n",
       "    </tr>\n",
       "  </tbody>\n",
       "</table>\n",
       "<p>2000 rows × 5 columns</p>\n",
       "</div>"
      ],
      "text/plain": [
       "              date           open           high            low          close\n",
       "0    1662656400000  1630.23000000  1639.41000000  1620.20000000  1630.59000000\n",
       "1    1662660000000  1630.59000000  1636.47000000  1625.30000000  1630.55000000\n",
       "2    1662663600000  1630.55000000  1650.00000000  1624.32000000  1649.60000000\n",
       "3    1662667200000  1649.60000000  1663.56000000  1639.83000000  1644.92000000\n",
       "4    1662670800000  1644.91000000  1645.00000000  1630.00000000  1639.24000000\n",
       "..             ...            ...            ...            ...            ...\n",
       "995  1669838400000  1287.20000000  1295.76000000  1285.00000000  1295.29000000\n",
       "996  1669842000000  1295.29000000  1299.00000000  1287.73000000  1297.07000000\n",
       "997  1669845600000  1297.07000000  1309.77000000  1292.24000000  1298.91000000\n",
       "998  1669849200000  1298.90000000  1306.51000000  1290.84000000  1294.46000000\n",
       "999  1669852800000  1294.46000000  1295.88000000  1286.21000000  1290.21000000\n",
       "\n",
       "[2000 rows x 5 columns]"
      ]
     },
     "execution_count": 57,
     "metadata": {},
     "output_type": "execute_result"
    }
   ],
   "source": [
    "%%script echo skipping\n",
    "eth_df_raw"
   ]
  },
  {
   "cell_type": "code",
   "execution_count": 58,
   "metadata": {},
   "outputs": [],
   "source": [
    "def test_logic_2(raw_df):\n",
    "    raw_df['open'] = pd.to_numeric(raw_df['open'])\n",
    "    raw_df['high'] = pd.to_numeric(raw_df['high'])\n",
    "    raw_df['low'] = pd.to_numeric(raw_df['low'])\n",
    "    raw_df['close'] = pd.to_numeric(raw_df['close'])\n",
    "    raw_df['date'] = pd.to_datetime(raw_df['date'], unit = 'ms')\n",
    "\n",
    "\n",
    "    short_ema = raw_df['close'].ewm(span = 12, adjust = False).mean()\n",
    "    long_ema = raw_df['close'].ewm(span = 26, adjust = False).mean()\n",
    "    ema_200 = raw_df['close'].ewm(span = 200, adjust = False).mean()\n",
    "\n",
    "    macd = short_ema - long_ema\n",
    "    signal = macd.ewm(span = 9, adjust = False).mean()\n",
    "\n",
    "    raw_df['macd'] = macd\n",
    "    raw_df['signal'] = signal\n",
    "    raw_df['200_ema'] = ema_200\n",
    "\n",
    "    raw_df['TR1'] = abs(raw_df['high'] - raw_df['low'])\n",
    "    raw_df['TR2'] = abs(raw_df['low'] - raw_df['close'].shift())\n",
    "    raw_df['TR3'] = abs(raw_df['high'] - raw_df['close'].shift())\n",
    "\n",
    "    raw_df['ATR'] = raw_df.apply(lambda x: row_check(x.TR1, x.TR2, x.TR3), axis=1)\n",
    "\n",
    "    raw_df = raw_df.iloc[200:]\n",
    "\n",
    "    raw_df = raw_df.drop(['TR1', 'TR2', 'TR3'], axis=1)\n",
    "\n",
    "    raw_df['trigger_long'] = np.where(((raw_df['macd'] > raw_df['signal']) & (raw_df['close'] > raw_df['200_ema']) & (raw_df['macd'] < 0) & (raw_df['signal'] > raw_df['macd'].shift())), 1, 0)\n",
    "\n",
    "    raw_df['trigger_short'] = np.where(((raw_df['signal'] > raw_df['macd']) & (raw_df['close'] < raw_df['200_ema']) & (raw_df['macd'] > 0) & (raw_df['signal'] < raw_df['macd'].shift())), 1, 0)\n",
    "\n",
    "\n",
    "    return raw_df"
   ]
  }
 ],
 "metadata": {
  "kernelspec": {
   "display_name": "Python 3.10.5 64-bit",
   "language": "python",
   "name": "python3"
  },
  "language_info": {
   "codemirror_mode": {
    "name": "ipython",
    "version": 3
   },
   "file_extension": ".py",
   "mimetype": "text/x-python",
   "name": "python",
   "nbconvert_exporter": "python",
   "pygments_lexer": "ipython3",
   "version": "3.10.5"
  },
  "orig_nbformat": 4,
  "vscode": {
   "interpreter": {
    "hash": "aee8b7b246df8f9039afb4144a1f6fd8d2ca17a180786b69acc140d282b71a49"
   }
  }
 },
 "nbformat": 4,
 "nbformat_minor": 2
}
