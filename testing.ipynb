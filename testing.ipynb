{
 "cells": [
  {
   "cell_type": "markdown",
   "metadata": {},
   "source": [
    "Installing dependencies"
   ]
  },
  {
   "cell_type": "code",
   "execution_count": 8,
   "metadata": {},
   "outputs": [
    {
     "name": "stdout",
     "output_type": "stream",
     "text": [
      "skipping\n"
     ]
    }
   ],
   "source": [
    "%%script echo skipping\n",
    "%pip install python-binance\n",
    "%pip install tradingview-ta"
   ]
  },
  {
   "cell_type": "markdown",
   "metadata": {},
   "source": [
    "Trying out TradingView API"
   ]
  },
  {
   "cell_type": "code",
   "execution_count": 10,
   "metadata": {},
   "outputs": [
    {
     "name": "stdout",
     "output_type": "stream",
     "text": [
      "{'RECOMMENDATION': 'SELL', 'BUY': 2, 'SELL': 15, 'NEUTRAL': 9}\n"
     ]
    }
   ],
   "source": [
    "from tradingview_ta import TA_Handler, Interval, Exchange\n",
    "\n",
    "ADA = TA_Handler(\n",
    "    symbol=\"ADAUSDT\",\n",
    "    screener=\"crypto\",\n",
    "    exchange=\"BINANCE\",\n",
    "    interval=Interval.INTERVAL_1_DAY,\n",
    "    # proxies={'http': 'http://example.com:8080'} # Uncomment to enable proxy (replace the URL).\n",
    ")\n",
    "print(ADA.get_analysis().summary)\n",
    "# Example output: {\"RECOMMENDATION\": \"BUY\", \"BUY\": 8, \"NEUTRAL\": 6, \"SELL\": 3}"
   ]
  }
 ],
 "metadata": {
  "kernelspec": {
   "display_name": "Python 3.10.5 64-bit",
   "language": "python",
   "name": "python3"
  },
  "language_info": {
   "codemirror_mode": {
    "name": "ipython",
    "version": 3
   },
   "file_extension": ".py",
   "mimetype": "text/x-python",
   "name": "python",
   "nbconvert_exporter": "python",
   "pygments_lexer": "ipython3",
   "version": "3.10.5"
  },
  "orig_nbformat": 4,
  "vscode": {
   "interpreter": {
    "hash": "aee8b7b246df8f9039afb4144a1f6fd8d2ca17a180786b69acc140d282b71a49"
   }
  }
 },
 "nbformat": 4,
 "nbformat_minor": 2
}
