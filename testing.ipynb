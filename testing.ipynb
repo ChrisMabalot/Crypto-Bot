{
 "cells": [
  {
   "cell_type": "markdown",
   "metadata": {},
   "source": [
    "Installing dependencies"
   ]
  },
  {
   "cell_type": "code",
   "execution_count": 12,
   "metadata": {},
   "outputs": [
    {
     "name": "stdout",
     "output_type": "stream",
     "text": [
      "Requirement already satisfied: tradingview-ta in /Library/Frameworks/Python.framework/Versions/3.10/lib/python3.10/site-packages (3.3.0)\n",
      "Requirement already satisfied: requests in /Library/Frameworks/Python.framework/Versions/3.10/lib/python3.10/site-packages (from tradingview-ta) (2.28.1)\n",
      "Requirement already satisfied: idna<4,>=2.5 in /Library/Frameworks/Python.framework/Versions/3.10/lib/python3.10/site-packages (from requests->tradingview-ta) (3.3)\n",
      "Requirement already satisfied: urllib3<1.27,>=1.21.1 in /Library/Frameworks/Python.framework/Versions/3.10/lib/python3.10/site-packages (from requests->tradingview-ta) (1.26.10)\n",
      "Requirement already satisfied: charset-normalizer<3,>=2 in /Library/Frameworks/Python.framework/Versions/3.10/lib/python3.10/site-packages (from requests->tradingview-ta) (2.1.0)\n",
      "Requirement already satisfied: certifi>=2017.4.17 in /Library/Frameworks/Python.framework/Versions/3.10/lib/python3.10/site-packages (from requests->tradingview-ta) (2022.6.15)\n",
      "Note: you may need to restart the kernel to use updated packages.\n",
      "Requirement already satisfied: pandas in /Library/Frameworks/Python.framework/Versions/3.10/lib/python3.10/site-packages (1.4.3)\n",
      "Requirement already satisfied: python-dateutil>=2.8.1 in /Users/cmabalot/Library/Python/3.10/lib/python/site-packages (from pandas) (2.8.2)\n",
      "Requirement already satisfied: pytz>=2020.1 in /Library/Frameworks/Python.framework/Versions/3.10/lib/python3.10/site-packages (from pandas) (2022.2)\n",
      "Requirement already satisfied: numpy>=1.21.0 in /Library/Frameworks/Python.framework/Versions/3.10/lib/python3.10/site-packages (from pandas) (1.23.1)\n",
      "Requirement already satisfied: six>=1.5 in /Users/cmabalot/Library/Python/3.10/lib/python/site-packages (from python-dateutil>=2.8.1->pandas) (1.16.0)\n",
      "Note: you may need to restart the kernel to use updated packages.\n",
      "Requirement already satisfied: python-dotenv in /Library/Frameworks/Python.framework/Versions/3.10/lib/python3.10/site-packages (0.20.0)\n",
      "Note: you may need to restart the kernel to use updated packages.\n",
      "Requirement already satisfied: python-binance in /Library/Frameworks/Python.framework/Versions/3.10/lib/python3.10/site-packages (1.0.16)\n",
      "Requirement already satisfied: six in /Users/cmabalot/Library/Python/3.10/lib/python/site-packages (from python-binance) (1.16.0)\n",
      "Requirement already satisfied: dateparser in /Library/Frameworks/Python.framework/Versions/3.10/lib/python3.10/site-packages (from python-binance) (1.1.1)\n",
      "Requirement already satisfied: requests in /Library/Frameworks/Python.framework/Versions/3.10/lib/python3.10/site-packages (from python-binance) (2.28.1)\n",
      "Requirement already satisfied: websockets in /Library/Frameworks/Python.framework/Versions/3.10/lib/python3.10/site-packages (from python-binance) (10.3)\n",
      "Requirement already satisfied: ujson in /Library/Frameworks/Python.framework/Versions/3.10/lib/python3.10/site-packages (from python-binance) (5.5.0)\n",
      "Requirement already satisfied: aiohttp in /Library/Frameworks/Python.framework/Versions/3.10/lib/python3.10/site-packages (from python-binance) (3.8.1)\n",
      "Requirement already satisfied: async-timeout<5.0,>=4.0.0a3 in /Library/Frameworks/Python.framework/Versions/3.10/lib/python3.10/site-packages (from aiohttp->python-binance) (4.0.2)\n",
      "Requirement already satisfied: multidict<7.0,>=4.5 in /Library/Frameworks/Python.framework/Versions/3.10/lib/python3.10/site-packages (from aiohttp->python-binance) (6.0.2)\n",
      "Requirement already satisfied: charset-normalizer<3.0,>=2.0 in /Library/Frameworks/Python.framework/Versions/3.10/lib/python3.10/site-packages (from aiohttp->python-binance) (2.1.0)\n",
      "Requirement already satisfied: aiosignal>=1.1.2 in /Library/Frameworks/Python.framework/Versions/3.10/lib/python3.10/site-packages (from aiohttp->python-binance) (1.2.0)\n",
      "Requirement already satisfied: attrs>=17.3.0 in /Library/Frameworks/Python.framework/Versions/3.10/lib/python3.10/site-packages (from aiohttp->python-binance) (22.1.0)\n",
      "Requirement already satisfied: frozenlist>=1.1.1 in /Library/Frameworks/Python.framework/Versions/3.10/lib/python3.10/site-packages (from aiohttp->python-binance) (1.3.1)\n",
      "Requirement already satisfied: yarl<2.0,>=1.0 in /Library/Frameworks/Python.framework/Versions/3.10/lib/python3.10/site-packages (from aiohttp->python-binance) (1.8.1)\n",
      "Requirement already satisfied: tzlocal in /Library/Frameworks/Python.framework/Versions/3.10/lib/python3.10/site-packages (from dateparser->python-binance) (4.2)\n",
      "Requirement already satisfied: python-dateutil in /Users/cmabalot/Library/Python/3.10/lib/python/site-packages (from dateparser->python-binance) (2.8.2)\n",
      "Requirement already satisfied: regex!=2019.02.19,!=2021.8.27,<2022.3.15 in /Library/Frameworks/Python.framework/Versions/3.10/lib/python3.10/site-packages (from dateparser->python-binance) (2022.3.2)\n",
      "Requirement already satisfied: pytz in /Library/Frameworks/Python.framework/Versions/3.10/lib/python3.10/site-packages (from dateparser->python-binance) (2022.2)\n",
      "Requirement already satisfied: urllib3<1.27,>=1.21.1 in /Library/Frameworks/Python.framework/Versions/3.10/lib/python3.10/site-packages (from requests->python-binance) (1.26.10)\n",
      "Requirement already satisfied: idna<4,>=2.5 in /Library/Frameworks/Python.framework/Versions/3.10/lib/python3.10/site-packages (from requests->python-binance) (3.3)\n",
      "Requirement already satisfied: certifi>=2017.4.17 in /Library/Frameworks/Python.framework/Versions/3.10/lib/python3.10/site-packages (from requests->python-binance) (2022.6.15)\n",
      "Requirement already satisfied: pytz-deprecation-shim in /Library/Frameworks/Python.framework/Versions/3.10/lib/python3.10/site-packages (from tzlocal->dateparser->python-binance) (0.1.0.post0)\n",
      "Requirement already satisfied: tzdata in /Library/Frameworks/Python.framework/Versions/3.10/lib/python3.10/site-packages (from pytz-deprecation-shim->tzlocal->dateparser->python-binance) (2022.5)\n",
      "Note: you may need to restart the kernel to use updated packages.\n"
     ]
    }
   ],
   "source": [
    "#%%script echo skipping\n",
    "# %pip install binance-connector\n",
    "%pip install tradingview-ta\n",
    "%pip install pandas\n",
    "%pip install python-dotenv\n",
    "%pip install python-binance"
   ]
  },
  {
   "cell_type": "markdown",
   "metadata": {},
   "source": [
    "Trying out TradingView API"
   ]
  },
  {
   "cell_type": "code",
   "execution_count": 13,
   "metadata": {},
   "outputs": [
    {
     "name": "stdout",
     "output_type": "stream",
     "text": [
      "skipping\n"
     ]
    }
   ],
   "source": [
    "%%script echo skipping\n",
    "from tradingview_ta import TA_Handler, Interval, Exchange\n",
    "\n",
    "ADA = TA_Handler(\n",
    "    symbol=\"ADAUSDT\",\n",
    "    screener=\"crypto\",\n",
    "    exchange=\"BINANCE\",\n",
    "    interval=Interval.INTERVAL_1_DAY,\n",
    "    # proxies={'http': 'http://example.com:8080'} # Uncomment to enable proxy (replace the URL).\n",
    ")\n",
    "print(ADA.get_analysis().summary)\n",
    "# Example output: {\"RECOMMENDATION\": \"BUY\", \"BUY\": 8, \"NEUTRAL\": 6, \"SELL\": 3}"
   ]
  },
  {
   "cell_type": "code",
   "execution_count": 14,
   "metadata": {},
   "outputs": [],
   "source": [
    "import os\n",
    "from binance.client import Client\n",
    "import pandas as pd"
   ]
  },
  {
   "cell_type": "code",
   "execution_count": 19,
   "metadata": {},
   "outputs": [
    {
     "name": "stdout",
     "output_type": "stream",
     "text": [
      "{'symbol': 'ETHUSDT', 'status': 'TRADING', 'baseAsset': 'ETH', 'baseAssetPrecision': 8, 'quoteAsset': 'USDT', 'quotePrecision': 8, 'quoteAssetPrecision': 8, 'baseCommissionPrecision': 8, 'quoteCommissionPrecision': 8, 'orderTypes': ['LIMIT', 'LIMIT_MAKER', 'MARKET', 'STOP_LOSS_LIMIT', 'TAKE_PROFIT_LIMIT'], 'icebergAllowed': True, 'ocoAllowed': True, 'quoteOrderQtyMarketAllowed': True, 'allowTrailingStop': True, 'cancelReplaceAllowed': True, 'isSpotTradingAllowed': True, 'isMarginTradingAllowed': False, 'filters': [{'filterType': 'PRICE_FILTER', 'minPrice': '0.01000000', 'maxPrice': '100000.00000000', 'tickSize': '0.01000000'}, {'filterType': 'PERCENT_PRICE', 'multiplierUp': '5', 'multiplierDown': '0.2', 'avgPriceMins': 1}, {'filterType': 'LOT_SIZE', 'minQty': '0.00001000', 'maxQty': '9000.00000000', 'stepSize': '0.00001000'}, {'filterType': 'MIN_NOTIONAL', 'minNotional': '10.00000000', 'applyToMarket': True, 'avgPriceMins': 1}, {'filterType': 'ICEBERG_PARTS', 'limit': 10}, {'filterType': 'MARKET_LOT_SIZE', 'minQty': '0.00000000', 'maxQty': '1000.00000000', 'stepSize': '0.00000000'}, {'filterType': 'TRAILING_DELTA', 'minTrailingAboveDelta': 10, 'maxTrailingAboveDelta': 2000, 'minTrailingBelowDelta': 10, 'maxTrailingBelowDelta': 2000}, {'filterType': 'MAX_NUM_ORDERS', 'maxNumOrders': 200}, {'filterType': 'MAX_NUM_ALGO_ORDERS', 'maxNumAlgoOrders': 5}], 'permissions': ['SPOT']}\n"
     ]
    }
   ],
   "source": [
    "from dotenv import load_dotenv\n",
    "load_dotenv()\n",
    "\n",
    "api_key = os.environ['BINANCE_API_KEY']\n",
    "api_secret = os.environ['BINANCE_PASSWORD']\n",
    "\n",
    "# client = Client(api_key, api_secret)\n",
    "# print('Using Binance TestNet Server')\n",
    "# print('')\n",
    "# print(binance_client.get_account())\n",
    "# client = Client(base_url='https://testnet.binance.vision')\n",
    "# print(client.time())\n",
    "# print(client.account())\n",
    "\n",
    "# from binance import Client, ThreadedWebsocketManager, ThreadedDepthCacheManager\n",
    "client = Client(api_key, api_secret, testnet=True)\n",
    "# client.ping()\n",
    "# client.get_server_time()\n",
    "info = client.get_symbol_info('ETHUSDT')\n",
    "print(info)"
   ]
  },
  {
   "cell_type": "code",
   "execution_count": 24,
   "metadata": {},
   "outputs": [
    {
     "data": {
      "text/html": [
       "<div>\n",
       "<style scoped>\n",
       "    .dataframe tbody tr th:only-of-type {\n",
       "        vertical-align: middle;\n",
       "    }\n",
       "\n",
       "    .dataframe tbody tr th {\n",
       "        vertical-align: top;\n",
       "    }\n",
       "\n",
       "    .dataframe thead th {\n",
       "        text-align: right;\n",
       "    }\n",
       "</style>\n",
       "<table border=\"1\" class=\"dataframe\">\n",
       "  <thead>\n",
       "    <tr style=\"text-align: right;\">\n",
       "      <th></th>\n",
       "      <th>date</th>\n",
       "      <th>open</th>\n",
       "      <th>high</th>\n",
       "      <th>low</th>\n",
       "      <th>close</th>\n",
       "    </tr>\n",
       "  </thead>\n",
       "  <tbody>\n",
       "    <tr>\n",
       "      <th>0</th>\n",
       "      <td>1666979100000</td>\n",
       "      <td>1556.74000000</td>\n",
       "      <td>1558.66000000</td>\n",
       "      <td>1552.28000000</td>\n",
       "      <td>1553.19000000</td>\n",
       "    </tr>\n",
       "    <tr>\n",
       "      <th>1</th>\n",
       "      <td>1666980000000</td>\n",
       "      <td>1552.54000000</td>\n",
       "      <td>1576.33000000</td>\n",
       "      <td>1548.74000000</td>\n",
       "      <td>1555.84000000</td>\n",
       "    </tr>\n",
       "    <tr>\n",
       "      <th>2</th>\n",
       "      <td>1666980900000</td>\n",
       "      <td>1555.85000000</td>\n",
       "      <td>1557.52000000</td>\n",
       "      <td>1550.11000000</td>\n",
       "      <td>1553.15000000</td>\n",
       "    </tr>\n",
       "    <tr>\n",
       "      <th>3</th>\n",
       "      <td>1666981800000</td>\n",
       "      <td>1552.79000000</td>\n",
       "      <td>1557.22000000</td>\n",
       "      <td>1551.92000000</td>\n",
       "      <td>1555.72000000</td>\n",
       "    </tr>\n",
       "    <tr>\n",
       "      <th>4</th>\n",
       "      <td>1666982700000</td>\n",
       "      <td>1555.76000000</td>\n",
       "      <td>1558.32000000</td>\n",
       "      <td>1550.61000000</td>\n",
       "      <td>1557.05000000</td>\n",
       "    </tr>\n",
       "    <tr>\n",
       "      <th>...</th>\n",
       "      <td>...</td>\n",
       "      <td>...</td>\n",
       "      <td>...</td>\n",
       "      <td>...</td>\n",
       "      <td>...</td>\n",
       "    </tr>\n",
       "    <tr>\n",
       "      <th>283</th>\n",
       "      <td>1667233800000</td>\n",
       "      <td>1571.45000000</td>\n",
       "      <td>1586.01000000</td>\n",
       "      <td>1555.53000000</td>\n",
       "      <td>1559.93000000</td>\n",
       "    </tr>\n",
       "    <tr>\n",
       "      <th>284</th>\n",
       "      <td>1667234700000</td>\n",
       "      <td>1560.07000000</td>\n",
       "      <td>1565.60000000</td>\n",
       "      <td>1558.67000000</td>\n",
       "      <td>1564.02000000</td>\n",
       "    </tr>\n",
       "    <tr>\n",
       "      <th>285</th>\n",
       "      <td>1667235600000</td>\n",
       "      <td>1563.82000000</td>\n",
       "      <td>1567.40000000</td>\n",
       "      <td>1558.07000000</td>\n",
       "      <td>1563.71000000</td>\n",
       "    </tr>\n",
       "    <tr>\n",
       "      <th>286</th>\n",
       "      <td>1667236500000</td>\n",
       "      <td>1563.84000000</td>\n",
       "      <td>1568.80000000</td>\n",
       "      <td>1562.58000000</td>\n",
       "      <td>1568.45000000</td>\n",
       "    </tr>\n",
       "    <tr>\n",
       "      <th>287</th>\n",
       "      <td>1667237400000</td>\n",
       "      <td>1568.44000000</td>\n",
       "      <td>1570.40000000</td>\n",
       "      <td>1566.59000000</td>\n",
       "      <td>1566.75000000</td>\n",
       "    </tr>\n",
       "  </tbody>\n",
       "</table>\n",
       "<p>288 rows × 5 columns</p>\n",
       "</div>"
      ],
      "text/plain": [
       "              date           open           high            low          close\n",
       "0    1666979100000  1556.74000000  1558.66000000  1552.28000000  1553.19000000\n",
       "1    1666980000000  1552.54000000  1576.33000000  1548.74000000  1555.84000000\n",
       "2    1666980900000  1555.85000000  1557.52000000  1550.11000000  1553.15000000\n",
       "3    1666981800000  1552.79000000  1557.22000000  1551.92000000  1555.72000000\n",
       "4    1666982700000  1555.76000000  1558.32000000  1550.61000000  1557.05000000\n",
       "..             ...            ...            ...            ...            ...\n",
       "283  1667233800000  1571.45000000  1586.01000000  1555.53000000  1559.93000000\n",
       "284  1667234700000  1560.07000000  1565.60000000  1558.67000000  1564.02000000\n",
       "285  1667235600000  1563.82000000  1567.40000000  1558.07000000  1563.71000000\n",
       "286  1667236500000  1563.84000000  1568.80000000  1562.58000000  1568.45000000\n",
       "287  1667237400000  1568.44000000  1570.40000000  1566.59000000  1566.75000000\n",
       "\n",
       "[288 rows x 5 columns]"
      ]
     },
     "execution_count": 24,
     "metadata": {},
     "output_type": "execute_result"
    }
   ],
   "source": [
    "def get_data_frame(symbol):\n",
    "    starttime = '3 days ago UTC'\n",
    "    interval = '15m'\n",
    "    data = client.get_historical_klines(symbol, interval, starttime)\n",
    "\n",
    "    for row in data:\n",
    "        del row[5:]\n",
    "    \n",
    "    df = pd.DataFrame(data, columns=['date', 'open', 'high', 'low', 'close'])\n",
    "\n",
    "    return df\n",
    "\n",
    "get_data_frame('ETHUSDT')"
   ]
  }
 ],
 "metadata": {
  "kernelspec": {
   "display_name": "Python 3.10.5 64-bit",
   "language": "python",
   "name": "python3"
  },
  "language_info": {
   "codemirror_mode": {
    "name": "ipython",
    "version": 3
   },
   "file_extension": ".py",
   "mimetype": "text/x-python",
   "name": "python",
   "nbconvert_exporter": "python",
   "pygments_lexer": "ipython3",
   "version": "3.10.5"
  },
  "orig_nbformat": 4,
  "vscode": {
   "interpreter": {
    "hash": "aee8b7b246df8f9039afb4144a1f6fd8d2ca17a180786b69acc140d282b71a49"
   }
  }
 },
 "nbformat": 4,
 "nbformat_minor": 2
}
